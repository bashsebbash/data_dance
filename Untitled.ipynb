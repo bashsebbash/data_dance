{
 "cells": [
  {
   "cell_type": "markdown",
   "metadata": {},
   "source": [
    "# Mexico E-Commerce\n",
    "## Merchandising Strategy\n",
    "\n",
    "### Market Research\n",
    "1. google category ID, Brand, partner_id, Geo, Hashed_ext_id, price, quant, timestamp\n",
    "\n",
    "2. Amzn Availability & Price. \n",
    "\n",
    "\n",
    "\n",
    "## Warehousing & Order Fulfillment\n",
    "\n",
    "1. Fullfillment by Amazon\n",
    "\n",
    "2. Estafeta \n",
    "\n",
    "## Marketing Strategy\n",
    "\n",
    "1.IG Optimized Checkout\n"
   ]
  }
 ],
 "metadata": {
  "kernelspec": {
   "display_name": "Python 3",
   "language": "python",
   "name": "python3"
  },
  "language_info": {
   "codemirror_mode": {
    "name": "ipython",
    "version": 3
   },
   "file_extension": ".py",
   "mimetype": "text/x-python",
   "name": "python",
   "nbconvert_exporter": "python",
   "pygments_lexer": "ipython3",
   "version": "3.6.4"
  }
 },
 "nbformat": 4,
 "nbformat_minor": 2
}
