{
 "cells": [
  {
   "cell_type": "markdown",
   "metadata": {
    "toc-hr-collapsed": false
   },
   "source": [
    "# Conjuring Data\n",
    "I've been loving Medium's selection of Data Science articles. Figured I'd hop in on the fun. This article will try and focus on the magical ways we can use Python to get our hands on data to play with. The ability to read in data from various sources, combining & visualizing then annotating it all to tell a compelling story is pretty much magic. \n",
    "\n",
    "(Yes, I'm leaning in to this whole magic thing) \n",
    "\n",
    "This article will focus on Conjuration. In non-metaphorical terms: We'll look into the various sources of raw data, find a real world example of data you can access (for free) in that format, & then outline the code needed to get that data ready to go. \n",
    "\n",
    "So the methods we'll focus on are: Reading flat files, Querying with SQL, Hitting and API & Scraping data from the web. \n",
    "\n",
    "Data Sources chosen are: Zillow, IRS, google finance\n",
    "\n",
    "The choices in Data Sources are purely arbitrary. Chances are if you can think of a dataset you wish you had access to, then it exists. So look around! though beware that most of the time someone will want to be paid. "
   ]
  },
  {
   "cell_type": "markdown",
   "metadata": {
    "toc-hr-collapsed": false
   },
   "source": [
    "## 1. Read in files\n",
    "Flat files! there are countless reasons why you'd have a flat file. These are typicaly `.CSV`s with a header and many rows of data. Though sometimes it's a `.txt` file. The key thing is that you have rows of values that have a delimiter to split out the values on each row & then either a new line for each row or a special delimiter to indicate that the next row has begun. \n",
    "\n",
    "We will use [Zillow Home Value Index](https://www.zillow.com/research/data/)\n",
    " to demonstrate how to work with flat files. "
   ]
  },
  {
   "cell_type": "markdown",
   "metadata": {},
   "source": [
    "\n",
    "*  ### pd.read_csv()\n",
    "Plain Text files are easy. `.CSV` files are the most common & Pandas' `pd.read_csv()` function should be all you need. There are other types of plain text files. maybe you have a tab-separated (`\\t`) one, or maybe one that uses `|` or ` `. The separator can be specified using the `sep = \"\"` argument. While the name of the function seems to imply that it can only read  `.CSV`s it'll actuallt work with any file that's formatted appropriately. \n"
   ]
  },
  {
   "cell_type": "code",
   "execution_count": 1,
   "metadata": {},
   "outputs": [
    {
     "data": {
      "text/html": [
       "<div>\n",
       "<style scoped>\n",
       "    .dataframe tbody tr th:only-of-type {\n",
       "        vertical-align: middle;\n",
       "    }\n",
       "\n",
       "    .dataframe tbody tr th {\n",
       "        vertical-align: top;\n",
       "    }\n",
       "\n",
       "    .dataframe thead th {\n",
       "        text-align: right;\n",
       "    }\n",
       "</style>\n",
       "<table border=\"1\" class=\"dataframe\">\n",
       "  <thead>\n",
       "    <tr style=\"text-align: right;\">\n",
       "      <th></th>\n",
       "      <th>RegionName</th>\n",
       "      <th>City</th>\n",
       "      <th>State</th>\n",
       "      <th>Metro</th>\n",
       "      <th>CountyName</th>\n",
       "      <th>SizeRank</th>\n",
       "      <th>2010-01</th>\n",
       "      <th>2010-02</th>\n",
       "      <th>2010-03</th>\n",
       "      <th>2010-04</th>\n",
       "      <th>...</th>\n",
       "      <th>2018-07</th>\n",
       "      <th>2018-08</th>\n",
       "      <th>2018-09</th>\n",
       "      <th>2018-10</th>\n",
       "      <th>2018-11</th>\n",
       "      <th>2018-12</th>\n",
       "      <th>2019-01</th>\n",
       "      <th>2019-02</th>\n",
       "      <th>2019-03</th>\n",
       "      <th>2019-04</th>\n",
       "    </tr>\n",
       "  </thead>\n",
       "  <tbody>\n",
       "    <tr>\n",
       "      <th>0</th>\n",
       "      <td>Northeast Dallas</td>\n",
       "      <td>Dallas</td>\n",
       "      <td>TX</td>\n",
       "      <td>Dallas-Fort Worth-Arlington</td>\n",
       "      <td>Dallas County</td>\n",
       "      <td>1</td>\n",
       "      <td>NaN</td>\n",
       "      <td>NaN</td>\n",
       "      <td>NaN</td>\n",
       "      <td>NaN</td>\n",
       "      <td>...</td>\n",
       "      <td>129500.0</td>\n",
       "      <td>121250.0</td>\n",
       "      <td>125000.0</td>\n",
       "      <td>127000.0</td>\n",
       "      <td>139000.0</td>\n",
       "      <td>129900.0</td>\n",
       "      <td>135000.0</td>\n",
       "      <td>139500.0</td>\n",
       "      <td>148000.0</td>\n",
       "      <td>145750.0</td>\n",
       "    </tr>\n",
       "    <tr>\n",
       "      <th>1</th>\n",
       "      <td>Maryvale</td>\n",
       "      <td>Phoenix</td>\n",
       "      <td>AZ</td>\n",
       "      <td>Phoenix-Mesa-Scottsdale</td>\n",
       "      <td>Maricopa County</td>\n",
       "      <td>2</td>\n",
       "      <td>NaN</td>\n",
       "      <td>NaN</td>\n",
       "      <td>NaN</td>\n",
       "      <td>NaN</td>\n",
       "      <td>...</td>\n",
       "      <td>175000.0</td>\n",
       "      <td>177126.0</td>\n",
       "      <td>179250.0</td>\n",
       "      <td>179900.0</td>\n",
       "      <td>180000.0</td>\n",
       "      <td>180000.0</td>\n",
       "      <td>180000.0</td>\n",
       "      <td>182100.0</td>\n",
       "      <td>185000.0</td>\n",
       "      <td>187000.0</td>\n",
       "    </tr>\n",
       "    <tr>\n",
       "      <th>2</th>\n",
       "      <td>Paradise</td>\n",
       "      <td>Las Vegas</td>\n",
       "      <td>NV</td>\n",
       "      <td>Las Vegas-Henderson-Paradise</td>\n",
       "      <td>Clark County</td>\n",
       "      <td>3</td>\n",
       "      <td>72500.0</td>\n",
       "      <td>68900.0</td>\n",
       "      <td>67400.0</td>\n",
       "      <td>66700.0</td>\n",
       "      <td>...</td>\n",
       "      <td>149444.0</td>\n",
       "      <td>149000.0</td>\n",
       "      <td>151000.0</td>\n",
       "      <td>159000.0</td>\n",
       "      <td>159888.0</td>\n",
       "      <td>165000.0</td>\n",
       "      <td>160000.0</td>\n",
       "      <td>157500.0</td>\n",
       "      <td>159900.0</td>\n",
       "      <td>159900.0</td>\n",
       "    </tr>\n",
       "  </tbody>\n",
       "</table>\n",
       "<p>3 rows × 118 columns</p>\n",
       "</div>"
      ],
      "text/plain": [
       "         RegionName       City State                         Metro  \\\n",
       "0  Northeast Dallas     Dallas    TX   Dallas-Fort Worth-Arlington   \n",
       "1          Maryvale    Phoenix    AZ       Phoenix-Mesa-Scottsdale   \n",
       "2          Paradise  Las Vegas    NV  Las Vegas-Henderson-Paradise   \n",
       "\n",
       "        CountyName  SizeRank  2010-01  2010-02  2010-03  2010-04    ...     \\\n",
       "0    Dallas County         1      NaN      NaN      NaN      NaN    ...      \n",
       "1  Maricopa County         2      NaN      NaN      NaN      NaN    ...      \n",
       "2     Clark County         3  72500.0  68900.0  67400.0  66700.0    ...      \n",
       "\n",
       "    2018-07   2018-08   2018-09   2018-10   2018-11   2018-12   2019-01  \\\n",
       "0  129500.0  121250.0  125000.0  127000.0  139000.0  129900.0  135000.0   \n",
       "1  175000.0  177126.0  179250.0  179900.0  180000.0  180000.0  180000.0   \n",
       "2  149444.0  149000.0  151000.0  159000.0  159888.0  165000.0  160000.0   \n",
       "\n",
       "    2019-02   2019-03   2019-04  \n",
       "0  139500.0  148000.0  145750.0  \n",
       "1  182100.0  185000.0  187000.0  \n",
       "2  157500.0  159900.0  159900.0  \n",
       "\n",
       "[3 rows x 118 columns]"
      ]
     },
     "execution_count": 1,
     "metadata": {},
     "output_type": "execute_result"
    }
   ],
   "source": [
    "import pandas as pd\n",
    "\n",
    "df = pd.read_csv('data/Neighborhood_MedianListingPrice_BottomTier.csv')\n",
    "df.head(3)"
   ]
  },
  {
   "cell_type": "markdown",
   "metadata": {},
   "source": [
    "*  ### Complex Files\n",
    "Sometimes we work with files that are a bit more intricate. We'll look at Excel files. Most of the time it's easier to convert our complex file into a plain test one & then play around. Since Excel is so popular, smart people have already figured out all the details & shared them with the community."
   ]
  },
  {
   "cell_type": "code",
   "execution_count": null,
   "metadata": {},
   "outputs": [],
   "source": []
  },
  {
   "cell_type": "markdown",
   "metadata": {},
   "source": [
    "*  ### Combining Files\n",
    "if your data is spread accriss a bunch of files and folders, you can loop through read and combine them pretty easily. here's how"
   ]
  },
  {
   "cell_type": "code",
   "execution_count": null,
   "metadata": {},
   "outputs": [],
   "source": []
  },
  {
   "cell_type": "markdown",
   "metadata": {},
   "source": [
    "## 2. Query a DataBase"
   ]
  },
  {
   "cell_type": "markdown",
   "metadata": {},
   "source": [
    "* ### Types of DBs\n",
    "It really doesn't matter. After all, SQL is SQL. Drivers & authentication can suck though. I'd show you how to connect to the many DBs I use at work but I doubt my compliance team would like that. Instead I spun off a few local DBs & will use those to show you how to connect. You'll need to modify some stuff (Drivers/Host/Port/Username/Password) to be able to work with DBs."
   ]
  },
  {
   "cell_type": "code",
   "execution_count": null,
   "metadata": {},
   "outputs": [],
   "source": []
  },
  {
   "cell_type": "markdown",
   "metadata": {},
   "source": [
    "* ### Connecting "
   ]
  },
  {
   "cell_type": "code",
   "execution_count": null,
   "metadata": {},
   "outputs": [],
   "source": []
  },
  {
   "cell_type": "markdown",
   "metadata": {},
   "source": [
    "* ### SQL to DataFrame"
   ]
  },
  {
   "cell_type": "code",
   "execution_count": null,
   "metadata": {},
   "outputs": [],
   "source": []
  },
  {
   "cell_type": "markdown",
   "metadata": {},
   "source": [
    "## 3. Use an API"
   ]
  },
  {
   "cell_type": "markdown",
   "metadata": {},
   "source": [
    "* ### Find the API"
   ]
  },
  {
   "cell_type": "code",
   "execution_count": null,
   "metadata": {},
   "outputs": [],
   "source": []
  },
  {
   "cell_type": "markdown",
   "metadata": {},
   "source": [
    "* ### Connect"
   ]
  },
  {
   "cell_type": "code",
   "execution_count": null,
   "metadata": {},
   "outputs": [],
   "source": []
  },
  {
   "cell_type": "markdown",
   "metadata": {},
   "source": [
    "* ### Ask & Recieve"
   ]
  },
  {
   "cell_type": "code",
   "execution_count": null,
   "metadata": {},
   "outputs": [],
   "source": []
  },
  {
   "cell_type": "markdown",
   "metadata": {},
   "source": [
    "## 4.Web Scraping"
   ]
  },
  {
   "cell_type": "markdown",
   "metadata": {},
   "source": [
    "* ### An Act of desparation"
   ]
  },
  {
   "cell_type": "code",
   "execution_count": null,
   "metadata": {},
   "outputs": [],
   "source": []
  },
  {
   "cell_type": "markdown",
   "metadata": {},
   "source": [
    "* ### Inspect page & get XPath"
   ]
  },
  {
   "cell_type": "code",
   "execution_count": null,
   "metadata": {},
   "outputs": [],
   "source": []
  },
  {
   "cell_type": "markdown",
   "metadata": {},
   "source": [
    "* ### Retrieve Text"
   ]
  },
  {
   "cell_type": "code",
   "execution_count": null,
   "metadata": {},
   "outputs": [],
   "source": []
  },
  {
   "cell_type": "markdown",
   "metadata": {},
   "source": [
    "* ### Retrieve Files"
   ]
  },
  {
   "cell_type": "code",
   "execution_count": null,
   "metadata": {},
   "outputs": [],
   "source": []
  },
  {
   "cell_type": "markdown",
   "metadata": {},
   "source": [
    "* ### Take Screenshots"
   ]
  },
  {
   "cell_type": "code",
   "execution_count": null,
   "metadata": {},
   "outputs": [],
   "source": []
  },
  {
   "cell_type": "markdown",
   "metadata": {},
   "source": [
    "* ### Create a DF & Save to flat file."
   ]
  },
  {
   "cell_type": "code",
   "execution_count": null,
   "metadata": {},
   "outputs": [],
   "source": []
  }
 ],
 "metadata": {
  "kernelspec": {
   "display_name": "Python 3",
   "language": "python",
   "name": "python3"
  },
  "language_info": {
   "codemirror_mode": {
    "name": "ipython",
    "version": 3
   },
   "file_extension": ".py",
   "mimetype": "text/x-python",
   "name": "python",
   "nbconvert_exporter": "python",
   "pygments_lexer": "ipython3",
   "version": "3.6.4"
  }
 },
 "nbformat": 4,
 "nbformat_minor": 2
}
